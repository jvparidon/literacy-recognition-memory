{
 "cells": [
  {
   "cell_type": "code",
   "execution_count": null,
   "metadata": {},
   "outputs": [],
   "source": [
    "# display plots inline\n",
    "%matplotlib notebook\n",
    "\n",
    "# imports\n",
    "import os\n",
    "import numpy as np\n",
    "import pandas as pd\n",
    "import pymc3 as pm\n",
    "from bambi import Model, Prior\n",
    "import matplotlib.pyplot as plt\n",
    "import seaborn as sns\n",
    "import scipy.stats\n",
    "import pymc3_utils as pmu\n",
    "\n",
    "# suppress system warnings for legibility\n",
    "import warnings\n",
    "warnings.filterwarnings('ignore')\n",
    "\n",
    "# resize plots to fit labels inside bounding box\n",
    "from matplotlib import rcParams\n",
    "rcParams.update({'figure.autolayout': True})\n",
    "\n",
    "# MPI color scheme\n",
    "sns.set(style='white', palette='Set2')"
   ]
  },
  {
   "cell_type": "markdown",
   "metadata": {},
   "source": [
    "# Digit span\n",
    "## Loading data"
   ]
  },
  {
   "cell_type": "code",
   "execution_count": null,
   "metadata": {},
   "outputs": [],
   "source": [
    "df_span = pd.read_csv('data/digit_span.tsv', sep='\\t')\n",
    "df_span = pd.melt(df_span, id_vars=['pp'], value_vars=['fds', 'bds'], var_name='task', value_name='span')\n",
    "df_reading = pd.read_csv('data/tamil_reading.tsv', sep='\\t')\n",
    "df_span = df_span.merge(df_reading, left_on='pp', right_on='pp')\n",
    "\n",
    "display(df_span.head())"
   ]
  },
  {
   "cell_type": "markdown",
   "metadata": {},
   "source": [
    "## Data mangling and plotting"
   ]
  },
  {
   "cell_type": "code",
   "execution_count": null,
   "metadata": {},
   "outputs": [],
   "source": [
    "# standardize variables\n",
    "df_span['span_z'] = pmu.standardize(df_span['span'])\n",
    "df_span['reading_z'] = pmu.standardize(df_span['word'])\n",
    "df_span['task_binary'] = pd.get_dummies(df_span['task'])['fds']\n",
    "df_span['task_z'] = pmu.standardize(df_span['task_binary'])\n",
    "\n",
    "display(df_span.head())"
   ]
  },
  {
   "cell_type": "markdown",
   "metadata": {},
   "source": [
    "## Modeling"
   ]
  },
  {
   "cell_type": "markdown",
   "metadata": {},
   "source": [
    "First we will set some parameters for the regression procedure, as outlined in the paper."
   ]
  },
  {
   "cell_type": "code",
   "execution_count": null,
   "metadata": {},
   "outputs": [],
   "source": [
    "# default model params\n",
    "defaults = {\n",
    "    'samples': 5000,\n",
    "    'tune': 2500,\n",
    "    'chains': 4,\n",
    "    'init': 'advi+adapt_diag',\n",
    "    'priors': {'fixed': 'narrow', 'random': 'narrow'},\n",
    "}"
   ]
  },
  {
   "cell_type": "markdown",
   "metadata": {},
   "source": [
    "We will use the only model that makes sense in the context of our multilevel model setup: A task model, an additional predictor for task type (fds versus bds) and by-participant intercepts."
   ]
  },
  {
   "cell_type": "code",
   "execution_count": null,
   "metadata": {},
   "outputs": [],
   "source": [
    "model_span_task = Model(df_span)\n",
    "model_span_task.fit('span_z ~ task_z',\n",
    "                    random=['1|pp'],\n",
    "                    **defaults)"
   ]
  },
  {
   "cell_type": "code",
   "execution_count": null,
   "metadata": {},
   "outputs": [],
   "source": [
    "display(pmu.summary(model_span_task.backend.trace).round(2))"
   ]
  },
  {
   "cell_type": "markdown",
   "metadata": {},
   "source": [
    "\\\\(\\hat{r}\\\\) values look good, as does the number of effective samples for the by-participant intercepts. For the overall intercept we have more than 8K effective samples, for the span variance we have more than 5.5K."
   ]
  },
  {
   "cell_type": "markdown",
   "metadata": {},
   "source": [
    "## Plotting selected model traces"
   ]
  },
  {
   "cell_type": "markdown",
   "metadata": {},
   "source": [
    "As an additional check, we will plot the posterior traces for the model. Ideally these look unimodal and roughly normal. The plots on the righthand side should look like fuzzy caterpillars."
   ]
  },
  {
   "cell_type": "code",
   "execution_count": null,
   "metadata": {
    "scrolled": false
   },
   "outputs": [],
   "source": [
    "g_traces = pm.traceplot(model_span_task.backend.trace)\n",
    "plt.savefig('figures/digit_span_model_traces.png', dpi=600)"
   ]
  },
  {
   "cell_type": "markdown",
   "metadata": {},
   "source": [
    "## Extracting participant intercept modes"
   ]
  },
  {
   "cell_type": "markdown",
   "metadata": {},
   "source": [
    "We will now extract and store the posterior modes of the participant intercepts so we can use them to model reading scores."
   ]
  },
  {
   "cell_type": "code",
   "execution_count": null,
   "metadata": {},
   "outputs": [],
   "source": [
    "pps = df_span['pp'].unique()\n",
    "pp_nums = [f'1|pp__{i}' for i in range(len(pps))]\n",
    "df_intercepts = pmu.summary(model_span_task.backend.trace).loc[pp_nums]\n",
    "df_intercepts['pp'] = np.sort(pps)\n",
    "\n",
    "display(df_intercepts.head().round(2))"
   ]
  },
  {
   "cell_type": "code",
   "execution_count": null,
   "metadata": {},
   "outputs": [],
   "source": [
    "df_uncorrected = df_span.groupby('pp', as_index=False).mean().rename(columns={'span': 'raw_span_mean'})\n",
    "df_intercepts = df_intercepts[['pp', 'mode']].rename(columns={'mode': 'span_intercept'})\n",
    "df_intercepts = df_intercepts.merge(df_uncorrected[['pp', 'reading_z', 'raw_span_mean']],\n",
    "                                    left_on='pp', right_on='pp').reset_index()\n",
    "\n",
    "display(df_intercepts.head().round(2))"
   ]
  },
  {
   "cell_type": "code",
   "execution_count": null,
   "metadata": {},
   "outputs": [],
   "source": [
    "# and write to file\n",
    "df_intercepts.to_csv('data/span_intercepts.tsv', sep='\\t')"
   ]
  },
  {
   "cell_type": "markdown",
   "metadata": {},
   "source": [
    "Before closing this notebook, we will take a quick look at the correlations between working memory and reading score."
   ]
  },
  {
   "cell_type": "code",
   "execution_count": null,
   "metadata": {},
   "outputs": [],
   "source": [
    "display(df_intercepts[['raw_span_mean', 'span_intercept', 'reading_z']].corr().round(2))"
   ]
  }
 ],
 "metadata": {
  "kernelspec": {
   "display_name": "Python 3",
   "language": "python",
   "name": "python3"
  },
  "language_info": {
   "codemirror_mode": {
    "name": "ipython",
    "version": 3
   },
   "file_extension": ".py",
   "mimetype": "text/x-python",
   "name": "python",
   "nbconvert_exporter": "python",
   "pygments_lexer": "ipython3",
   "version": "3.7.1"
  }
 },
 "nbformat": 4,
 "nbformat_minor": 2
}
